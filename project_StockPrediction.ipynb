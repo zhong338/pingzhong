{
  "cells": [
    {
      "cell_type": "markdown",
      "metadata": {
        "id": "view-in-github",
        "colab_type": "text"
      },
      "source": [
        "<a href=\"https://colab.research.google.com/github/zhong338/pingzhong/blob/main/project_StockPrediction.ipynb\" target=\"_parent\"><img src=\"https://colab.research.google.com/assets/colab-badge.svg\" alt=\"Open In Colab\"/></a>"
      ]
    },
    {
      "cell_type": "raw",
      "metadata": {
        "id": "AvJwbAOW67rg"
      },
      "source": [
        "Ping Zhong \n",
        "zhong338@umn.edu\n",
        "Project_2 for Machine Learning Summer Workshop"
      ]
    },
    {
      "cell_type": "raw",
      "metadata": {
        "id": "r5M-GJNK67ri"
      },
      "source": [
        "Data: stock price of apple from Yahoo Finance (2008-01-01 ~ 2019-12-31)\n",
        "Compare Bagging, Random forest, and boosting in stock price prediction\n",
        "based on  \"Bootstrap Aggregation, Random Forests and Boosted Trees\""
      ]
    },
    {
      "cell_type": "code",
      "execution_count": null,
      "metadata": {
        "id": "tMoGTOfk67rk"
      },
      "outputs": [],
      "source": [
        "import datetime\n",
        "import matplotlib.pyplot as plt\n",
        "import numpy as np\n",
        "import pandas as pd\n",
        "import pandas_datareader.data as web\n",
        "import seaborn as sns\n",
        "import sklearn\n",
        "from sklearn.ensemble import (\n",
        "    BaggingRegressor, RandomForestRegressor, AdaBoostRegressor\n",
        ")\n",
        "from sklearn.metrics import mean_squared_error\n",
        "from sklearn.model_selection import train_test_split\n",
        "from sklearn.preprocessing import scale\n",
        "from sklearn.tree import DecisionTreeRegressor"
      ]
    },
    {
      "cell_type": "code",
      "execution_count": null,
      "metadata": {
        "id": "X35bt2dm67rm"
      },
      "outputs": [],
      "source": [
        "# create the DataFrame and stock information from Yahoo finance \n",
        "def create_lagged_series(symbol, start_date, end_date, lags=3):\n",
        "    ts = web.DataReader( symbol, \"yahoo\", start_date, end_date)\n",
        "    tslag = pd.DataFrame(index=ts.index)\n",
        "    tslag[\"Today\"] = ts[\"Adj Close\"]\n",
        "    tslag[\"Volume\"] = ts[\"Volume\"]\n",
        "\n",
        "    for i in range(0,lags):\n",
        "        tslag[\"Lag%s\" % str(i+1)] = ts[\"Adj Close\"].shift(i+1)\n",
        "\n",
        "    tsret = pd.DataFrame(index=tslag.index)\n",
        "    tsret[\"Volume\"] = tslag[\"Volume\"]\n",
        "    tsret[\"Today\"] = tslag[\"Today\"].pct_change()*100.0\n",
        "\n",
        "    for i in range(0,lags):\n",
        "        tsret[\"Lag%s\" % str(i+1)] = tslag[\n",
        "            \"Lag%s\" % str(i+1)\n",
        "        ].pct_change()*100.0\n",
        "    tsret = tsret[tsret.index >= start_date]\n",
        "    return tsret"
      ]
    },
    {
      "cell_type": "code",
      "execution_count": null,
      "metadata": {
        "id": "_ycnnbpD67rn"
      },
      "outputs": [],
      "source": [
        "# set the random seed, number of estimators, and the 'step factor' used to plot the graph of MSE\n",
        "random_state = 42\n",
        "n_jobs = 1  \n",
        "n_estimators = 1000\n",
        "step_factor = 10\n",
        "axis_step = int(n_estimators/step_factor)"
      ]
    },
    {
      "cell_type": "code",
      "execution_count": null,
      "metadata": {
        "id": "8VH481ZU67ro"
      },
      "outputs": [],
      "source": [
        "# Download ten years worth of apple \n",
        "# adjusted closing prices\n",
        "start = datetime.datetime(2008, 1, 1)\n",
        "end = datetime.datetime(2019, 12, 31)\n",
        "aapl = create_lagged_series(\"AAPL\", start, end, lags=3)\n",
        "aapl.dropna(inplace=True)\n",
        "\n",
        "# Use the first three daily lags of AAPL closing prices\n",
        "# and scale the data to lie within -1 and +1 for comparison\n",
        "X = aapl[[\"Lag1\", \"Lag2\", \"Lag3\"]]\n",
        "y = aapl[\"Today\"]\n",
        "X = scale(X)\n",
        "y = scale(y)"
      ]
    },
    {
      "cell_type": "code",
      "execution_count": null,
      "metadata": {
        "id": "XSLMNesY67ro",
        "outputId": "53fa135f-0bae-40b1-b0b2-6219af4f73c4"
      },
      "outputs": [
        {
          "data": {
            "text/html": [
              "<div>\n",
              "<style scoped>\n",
              "    .dataframe tbody tr th:only-of-type {\n",
              "        vertical-align: middle;\n",
              "    }\n",
              "\n",
              "    .dataframe tbody tr th {\n",
              "        vertical-align: top;\n",
              "    }\n",
              "\n",
              "    .dataframe thead th {\n",
              "        text-align: right;\n",
              "    }\n",
              "</style>\n",
              "<table border=\"1\" class=\"dataframe\">\n",
              "  <thead>\n",
              "    <tr style=\"text-align: right;\">\n",
              "      <th></th>\n",
              "      <th>Volume</th>\n",
              "      <th>Today</th>\n",
              "      <th>Lag1</th>\n",
              "      <th>Lag2</th>\n",
              "      <th>Lag3</th>\n",
              "    </tr>\n",
              "    <tr>\n",
              "      <th>Date</th>\n",
              "      <th></th>\n",
              "      <th></th>\n",
              "      <th></th>\n",
              "      <th></th>\n",
              "      <th></th>\n",
              "    </tr>\n",
              "  </thead>\n",
              "  <tbody>\n",
              "    <tr>\n",
              "      <th>2008-01-08</th>\n",
              "      <td>380954000.0</td>\n",
              "      <td>-3.597171</td>\n",
              "      <td>-1.338523</td>\n",
              "      <td>-7.633490</td>\n",
              "      <td>0.046160</td>\n",
              "    </tr>\n",
              "    <tr>\n",
              "      <th>2008-01-09</th>\n",
              "      <td>453470500.0</td>\n",
              "      <td>4.759117</td>\n",
              "      <td>-3.597171</td>\n",
              "      <td>-1.338523</td>\n",
              "      <td>-7.633490</td>\n",
              "    </tr>\n",
              "    <tr>\n",
              "      <th>2008-01-10</th>\n",
              "      <td>370743800.0</td>\n",
              "      <td>-0.769221</td>\n",
              "      <td>4.759117</td>\n",
              "      <td>-3.597171</td>\n",
              "      <td>-1.338523</td>\n",
              "    </tr>\n",
              "    <tr>\n",
              "      <th>2008-01-11</th>\n",
              "      <td>308071400.0</td>\n",
              "      <td>-2.994044</td>\n",
              "      <td>-0.769221</td>\n",
              "      <td>4.759117</td>\n",
              "      <td>-3.597171</td>\n",
              "    </tr>\n",
              "    <tr>\n",
              "      <th>2008-01-14</th>\n",
              "      <td>275112600.0</td>\n",
              "      <td>3.526557</td>\n",
              "      <td>-2.994044</td>\n",
              "      <td>-0.769221</td>\n",
              "      <td>4.759117</td>\n",
              "    </tr>\n",
              "  </tbody>\n",
              "</table>\n",
              "</div>"
            ],
            "text/plain": [
              "                 Volume     Today      Lag1      Lag2      Lag3\n",
              "Date                                                           \n",
              "2008-01-08  380954000.0 -3.597171 -1.338523 -7.633490  0.046160\n",
              "2008-01-09  453470500.0  4.759117 -3.597171 -1.338523 -7.633490\n",
              "2008-01-10  370743800.0 -0.769221  4.759117 -3.597171 -1.338523\n",
              "2008-01-11  308071400.0 -2.994044 -0.769221  4.759117 -3.597171\n",
              "2008-01-14  275112600.0  3.526557 -2.994044 -0.769221  4.759117"
            ]
          },
          "execution_count": 24,
          "metadata": {},
          "output_type": "execute_result"
        }
      ],
      "source": [
        "aapl.head()"
      ]
    },
    {
      "cell_type": "code",
      "execution_count": null,
      "metadata": {
        "id": "F1vwobjF67rq",
        "outputId": "e2e2e6e0-0fe7-4433-e19d-e3a393b52d4b"
      },
      "outputs": [
        {
          "data": {
            "text/plain": [
              "<matplotlib.axes._subplots.AxesSubplot at 0x251993582c8>"
            ]
          },
          "execution_count": 27,
          "metadata": {},
          "output_type": "execute_result"
        },
        {
          "data": {
            "image/png": "[encoded data removed]",
            "text/plain": [
              "<Figure size 432x288 with 1 Axes>"
            ]
          },
          "metadata": {
            "needs_background": "light"
          },
          "output_type": "display_data"
        }
      ],
      "source": [
        "data = aapl['2011-10-08':].copy()\n",
        "aapl.plot()"
      ]
    },
    {
      "cell_type": "code",
      "execution_count": null,
      "metadata": {
        "id": "-nNCE8fU67rr"
      },
      "outputs": [],
      "source": [
        "# Use the training-testing split with 70% of data in the\n",
        "# training data with the remaining 30% of data in the testing\n",
        "X_train, X_test, y_train, y_test = train_test_split(\n",
        "    X, y, test_size=0.3, random_state=random_state)"
      ]
    },
    {
      "cell_type": "code",
      "execution_count": null,
      "metadata": {
        "id": "zfwgH0Ym67rs"
      },
      "outputs": [],
      "source": [
        "# Pre-create the arrays which will contain the MSE for\n",
        "# each particular ensemble method\n",
        "estimators = np.zeros(axis_step)\n",
        "bagging_mse = np.zeros(axis_step)\n",
        "rf_mse = np.zeros(axis_step)\n",
        "boosting_mse = np.zeros(axis_step)"
      ]
    },
    {
      "cell_type": "code",
      "execution_count": null,
      "metadata": {
        "id": "izVyuVUg67rt",
        "outputId": "f5148259-2fa4-4e42-dca5-e17ae434151f"
      },
      "outputs": [
        {
          "name": "stdout",
          "output_type": "stream",
          "text": [
            "Bagging Estimator: 10 of 1000...\n",
            "Bagging Estimator: 20 of 1000...\n",
            "Bagging Estimator: 30 of 1000...\n",
            "Bagging Estimator: 40 of 1000...\n",
            "Bagging Estimator: 50 of 1000...\n",
            "Bagging Estimator: 60 of 1000...\n",
            "Bagging Estimator: 70 of 1000...\n",
            "Bagging Estimator: 80 of 1000...\n",
            "Bagging Estimator: 90 of 1000...\n",
            "Bagging Estimator: 100 of 1000...\n",
            "Bagging Estimator: 110 of 1000...\n",
            "Bagging Estimator: 120 of 1000...\n",
            "Bagging Estimator: 130 of 1000...\n",
            "Bagging Estimator: 140 of 1000...\n",
            "Bagging Estimator: 150 of 1000...\n",
            "Bagging Estimator: 160 of 1000...\n",
            "Bagging Estimator: 170 of 1000...\n",
            "Bagging Estimator: 180 of 1000...\n",
            "Bagging Estimator: 190 of 1000...\n",
            "Bagging Estimator: 200 of 1000...\n",
            "Bagging Estimator: 210 of 1000...\n",
            "Bagging Estimator: 220 of 1000...\n",
            "Bagging Estimator: 230 of 1000...\n",
            "Bagging Estimator: 240 of 1000...\n",
            "Bagging Estimator: 250 of 1000...\n",
            "Bagging Estimator: 260 of 1000...\n",
            "Bagging Estimator: 270 of 1000...\n",
            "Bagging Estimator: 280 of 1000...\n",
            "Bagging Estimator: 290 of 1000...\n",
            "Bagging Estimator: 300 of 1000...\n",
            "Bagging Estimator: 310 of 1000...\n",
            "Bagging Estimator: 320 of 1000...\n",
            "Bagging Estimator: 330 of 1000...\n",
            "Bagging Estimator: 340 of 1000...\n",
            "Bagging Estimator: 350 of 1000...\n",
            "Bagging Estimator: 360 of 1000...\n",
            "Bagging Estimator: 370 of 1000...\n",
            "Bagging Estimator: 380 of 1000...\n",
            "Bagging Estimator: 390 of 1000...\n",
            "Bagging Estimator: 400 of 1000...\n",
            "Bagging Estimator: 410 of 1000...\n",
            "Bagging Estimator: 420 of 1000...\n",
            "Bagging Estimator: 430 of 1000...\n",
            "Bagging Estimator: 440 of 1000...\n",
            "Bagging Estimator: 450 of 1000...\n",
            "Bagging Estimator: 460 of 1000...\n",
            "Bagging Estimator: 470 of 1000...\n",
            "Bagging Estimator: 480 of 1000...\n",
            "Bagging Estimator: 490 of 1000...\n",
            "Bagging Estimator: 500 of 1000...\n",
            "Bagging Estimator: 510 of 1000...\n",
            "Bagging Estimator: 520 of 1000...\n",
            "Bagging Estimator: 530 of 1000...\n",
            "Bagging Estimator: 540 of 1000...\n",
            "Bagging Estimator: 550 of 1000...\n",
            "Bagging Estimator: 560 of 1000...\n",
            "Bagging Estimator: 570 of 1000...\n",
            "Bagging Estimator: 580 of 1000...\n",
            "Bagging Estimator: 590 of 1000...\n",
            "Bagging Estimator: 600 of 1000...\n",
            "Bagging Estimator: 610 of 1000...\n",
            "Bagging Estimator: 620 of 1000...\n",
            "Bagging Estimator: 630 of 1000...\n",
            "Bagging Estimator: 640 of 1000...\n",
            "Bagging Estimator: 650 of 1000...\n",
            "Bagging Estimator: 660 of 1000...\n",
            "Bagging Estimator: 670 of 1000...\n",
            "Bagging Estimator: 680 of 1000...\n",
            "Bagging Estimator: 690 of 1000...\n",
            "Bagging Estimator: 700 of 1000...\n",
            "Bagging Estimator: 710 of 1000...\n",
            "Bagging Estimator: 720 of 1000...\n",
            "Bagging Estimator: 730 of 1000...\n",
            "Bagging Estimator: 740 of 1000...\n",
            "Bagging Estimator: 750 of 1000...\n",
            "Bagging Estimator: 760 of 1000...\n",
            "Bagging Estimator: 770 of 1000...\n",
            "Bagging Estimator: 780 of 1000...\n",
            "Bagging Estimator: 790 of 1000...\n",
            "Bagging Estimator: 800 of 1000...\n",
            "Bagging Estimator: 810 of 1000...\n",
            "Bagging Estimator: 820 of 1000...\n",
            "Bagging Estimator: 830 of 1000...\n",
            "Bagging Estimator: 840 of 1000...\n",
            "Bagging Estimator: 850 of 1000...\n",
            "Bagging Estimator: 860 of 1000...\n",
            "Bagging Estimator: 870 of 1000...\n",
            "Bagging Estimator: 880 of 1000...\n",
            "Bagging Estimator: 890 of 1000...\n",
            "Bagging Estimator: 900 of 1000...\n",
            "Bagging Estimator: 910 of 1000...\n",
            "Bagging Estimator: 920 of 1000...\n",
            "Bagging Estimator: 930 of 1000...\n",
            "Bagging Estimator: 940 of 1000...\n",
            "Bagging Estimator: 950 of 1000...\n",
            "Bagging Estimator: 960 of 1000...\n",
            "Bagging Estimator: 970 of 1000...\n",
            "Bagging Estimator: 980 of 1000...\n",
            "Bagging Estimator: 990 of 1000...\n",
            "Bagging Estimator: 1000 of 1000...\n"
          ]
        }
      ],
      "source": [
        "# Estimate the Bagging MSE over the full number\n",
        "# of estimators, across a step size (\"step_factor\")\n",
        "for i in range(0, axis_step):\n",
        "    print(\"Bagging Estimator: %d of %d...\" % (\n",
        "        step_factor*(i+1), n_estimators)\n",
        "    )\n",
        "    bagging = BaggingRegressor(\n",
        "        DecisionTreeRegressor(), \n",
        "        n_estimators=step_factor*(i+1),\n",
        "        n_jobs=n_jobs,\n",
        "        random_state=random_state\n",
        "    )\n",
        "    bagging.fit(X_train, y_train)\n",
        "    mse = mean_squared_error(y_test, bagging.predict(X_test))\n",
        "    estimators[i] = step_factor*(i+1)\n",
        "    bagging_mse[i] = mse"
      ]
    },
    {
      "cell_type": "code",
      "execution_count": null,
      "metadata": {
        "id": "5EOZ-Yv-67ru",
        "outputId": "73609d77-34c1-4da8-d826-ab3011514e2b"
      },
      "outputs": [
        {
          "name": "stdout",
          "output_type": "stream",
          "text": [
            "Random Forest Estimator: 10 of 1000...\n",
            "Random Forest Estimator: 20 of 1000...\n",
            "Random Forest Estimator: 30 of 1000...\n",
            "Random Forest Estimator: 40 of 1000...\n",
            "Random Forest Estimator: 50 of 1000...\n",
            "Random Forest Estimator: 60 of 1000...\n",
            "Random Forest Estimator: 70 of 1000...\n",
            "Random Forest Estimator: 80 of 1000...\n",
            "Random Forest Estimator: 90 of 1000...\n",
            "Random Forest Estimator: 100 of 1000...\n",
            "Random Forest Estimator: 110 of 1000...\n",
            "Random Forest Estimator: 120 of 1000...\n",
            "Random Forest Estimator: 130 of 1000...\n",
            "Random Forest Estimator: 140 of 1000...\n",
            "Random Forest Estimator: 150 of 1000...\n",
            "Random Forest Estimator: 160 of 1000...\n",
            "Random Forest Estimator: 170 of 1000...\n",
            "Random Forest Estimator: 180 of 1000...\n",
            "Random Forest Estimator: 190 of 1000...\n",
            "Random Forest Estimator: 200 of 1000...\n",
            "Random Forest Estimator: 210 of 1000...\n",
            "Random Forest Estimator: 220 of 1000...\n",
            "Random Forest Estimator: 230 of 1000...\n",
            "Random Forest Estimator: 240 of 1000...\n",
            "Random Forest Estimator: 250 of 1000...\n",
            "Random Forest Estimator: 260 of 1000...\n",
            "Random Forest Estimator: 270 of 1000...\n",
            "Random Forest Estimator: 280 of 1000...\n",
            "Random Forest Estimator: 290 of 1000...\n",
            "Random Forest Estimator: 300 of 1000...\n",
            "Random Forest Estimator: 310 of 1000...\n",
            "Random Forest Estimator: 320 of 1000...\n",
            "Random Forest Estimator: 330 of 1000...\n",
            "Random Forest Estimator: 340 of 1000...\n",
            "Random Forest Estimator: 350 of 1000...\n",
            "Random Forest Estimator: 360 of 1000...\n",
            "Random Forest Estimator: 370 of 1000...\n",
            "Random Forest Estimator: 380 of 1000...\n",
            "Random Forest Estimator: 390 of 1000...\n",
            "Random Forest Estimator: 400 of 1000...\n",
            "Random Forest Estimator: 410 of 1000...\n",
            "Random Forest Estimator: 420 of 1000...\n",
            "Random Forest Estimator: 430 of 1000...\n",
            "Random Forest Estimator: 440 of 1000...\n",
            "Random Forest Estimator: 450 of 1000...\n",
            "Random Forest Estimator: 460 of 1000...\n",
            "Random Forest Estimator: 470 of 1000...\n",
            "Random Forest Estimator: 480 of 1000...\n",
            "Random Forest Estimator: 490 of 1000...\n",
            "Random Forest Estimator: 500 of 1000...\n",
            "Random Forest Estimator: 510 of 1000...\n",
            "Random Forest Estimator: 520 of 1000...\n",
            "Random Forest Estimator: 530 of 1000...\n",
            "Random Forest Estimator: 540 of 1000...\n",
            "Random Forest Estimator: 550 of 1000...\n",
            "Random Forest Estimator: 560 of 1000...\n",
            "Random Forest Estimator: 570 of 1000...\n",
            "Random Forest Estimator: 580 of 1000...\n",
            "Random Forest Estimator: 590 of 1000...\n",
            "Random Forest Estimator: 600 of 1000...\n",
            "Random Forest Estimator: 610 of 1000...\n",
            "Random Forest Estimator: 620 of 1000...\n",
            "Random Forest Estimator: 630 of 1000...\n",
            "Random Forest Estimator: 640 of 1000...\n",
            "Random Forest Estimator: 650 of 1000...\n",
            "Random Forest Estimator: 660 of 1000...\n",
            "Random Forest Estimator: 670 of 1000...\n",
            "Random Forest Estimator: 680 of 1000...\n",
            "Random Forest Estimator: 690 of 1000...\n",
            "Random Forest Estimator: 700 of 1000...\n",
            "Random Forest Estimator: 710 of 1000...\n",
            "Random Forest Estimator: 720 of 1000...\n",
            "Random Forest Estimator: 730 of 1000...\n",
            "Random Forest Estimator: 740 of 1000...\n",
            "Random Forest Estimator: 750 of 1000...\n",
            "Random Forest Estimator: 760 of 1000...\n",
            "Random Forest Estimator: 770 of 1000...\n",
            "Random Forest Estimator: 780 of 1000...\n",
            "Random Forest Estimator: 790 of 1000...\n",
            "Random Forest Estimator: 800 of 1000...\n",
            "Random Forest Estimator: 810 of 1000...\n",
            "Random Forest Estimator: 820 of 1000...\n",
            "Random Forest Estimator: 830 of 1000...\n",
            "Random Forest Estimator: 840 of 1000...\n",
            "Random Forest Estimator: 850 of 1000...\n",
            "Random Forest Estimator: 860 of 1000...\n",
            "Random Forest Estimator: 870 of 1000...\n",
            "Random Forest Estimator: 880 of 1000...\n",
            "Random Forest Estimator: 890 of 1000...\n",
            "Random Forest Estimator: 900 of 1000...\n",
            "Random Forest Estimator: 910 of 1000...\n",
            "Random Forest Estimator: 920 of 1000...\n",
            "Random Forest Estimator: 930 of 1000...\n",
            "Random Forest Estimator: 940 of 1000...\n",
            "Random Forest Estimator: 950 of 1000...\n",
            "Random Forest Estimator: 960 of 1000...\n",
            "Random Forest Estimator: 970 of 1000...\n",
            "Random Forest Estimator: 980 of 1000...\n",
            "Random Forest Estimator: 990 of 1000...\n",
            "Random Forest Estimator: 1000 of 1000...\n"
          ]
        }
      ],
      "source": [
        "# Estimate the Random Forest MSE over the full number\n",
        "# of estimators, across a step size (\"step_factor\")\n",
        "for i in range(0, axis_step):\n",
        "    print(\"Random Forest Estimator: %d of %d...\" % (\n",
        "        step_factor*(i+1), n_estimators)\n",
        "    )\n",
        "    rf = RandomForestRegressor(\n",
        "        n_estimators=step_factor*(i+1),\n",
        "        n_jobs=n_jobs,\n",
        "        random_state=random_state\n",
        "    )\n",
        "    rf.fit(X_train, y_train)\n",
        "    mse = mean_squared_error(y_test, rf.predict(X_test))\n",
        "    estimators[i] = step_factor*(i+1)\n",
        "    rf_mse[i] = mse"
      ]
    },
    {
      "cell_type": "code",
      "execution_count": null,
      "metadata": {
        "id": "1SQYEWlG67rv",
        "outputId": "ed7581d8-36d9-4cc0-a0b2-890e04ecf2fb"
      },
      "outputs": [
        {
          "name": "stdout",
          "output_type": "stream",
          "text": [
            "Boosting Estimator: 10 of 1000...\n",
            "Boosting Estimator: 20 of 1000...\n",
            "Boosting Estimator: 30 of 1000...\n",
            "Boosting Estimator: 40 of 1000...\n",
            "Boosting Estimator: 50 of 1000...\n",
            "Boosting Estimator: 60 of 1000...\n",
            "Boosting Estimator: 70 of 1000...\n",
            "Boosting Estimator: 80 of 1000...\n",
            "Boosting Estimator: 90 of 1000...\n",
            "Boosting Estimator: 100 of 1000...\n",
            "Boosting Estimator: 110 of 1000...\n",
            "Boosting Estimator: 120 of 1000...\n",
            "Boosting Estimator: 130 of 1000...\n",
            "Boosting Estimator: 140 of 1000...\n",
            "Boosting Estimator: 150 of 1000...\n",
            "Boosting Estimator: 160 of 1000...\n",
            "Boosting Estimator: 170 of 1000...\n",
            "Boosting Estimator: 180 of 1000...\n",
            "Boosting Estimator: 190 of 1000...\n",
            "Boosting Estimator: 200 of 1000...\n",
            "Boosting Estimator: 210 of 1000...\n",
            "Boosting Estimator: 220 of 1000...\n",
            "Boosting Estimator: 230 of 1000...\n",
            "Boosting Estimator: 240 of 1000...\n",
            "Boosting Estimator: 250 of 1000...\n",
            "Boosting Estimator: 260 of 1000...\n",
            "Boosting Estimator: 270 of 1000...\n",
            "Boosting Estimator: 280 of 1000...\n",
            "Boosting Estimator: 290 of 1000...\n",
            "Boosting Estimator: 300 of 1000...\n",
            "Boosting Estimator: 310 of 1000...\n",
            "Boosting Estimator: 320 of 1000...\n",
            "Boosting Estimator: 330 of 1000...\n",
            "Boosting Estimator: 340 of 1000...\n",
            "Boosting Estimator: 350 of 1000...\n",
            "Boosting Estimator: 360 of 1000...\n",
            "Boosting Estimator: 370 of 1000...\n",
            "Boosting Estimator: 380 of 1000...\n",
            "Boosting Estimator: 390 of 1000...\n",
            "Boosting Estimator: 400 of 1000...\n",
            "Boosting Estimator: 410 of 1000...\n",
            "Boosting Estimator: 420 of 1000...\n",
            "Boosting Estimator: 430 of 1000...\n",
            "Boosting Estimator: 440 of 1000...\n",
            "Boosting Estimator: 450 of 1000...\n",
            "Boosting Estimator: 460 of 1000...\n",
            "Boosting Estimator: 470 of 1000...\n",
            "Boosting Estimator: 480 of 1000...\n",
            "Boosting Estimator: 490 of 1000...\n",
            "Boosting Estimator: 500 of 1000...\n",
            "Boosting Estimator: 510 of 1000...\n",
            "Boosting Estimator: 520 of 1000...\n",
            "Boosting Estimator: 530 of 1000...\n",
            "Boosting Estimator: 540 of 1000...\n",
            "Boosting Estimator: 550 of 1000...\n",
            "Boosting Estimator: 560 of 1000...\n",
            "Boosting Estimator: 570 of 1000...\n",
            "Boosting Estimator: 580 of 1000...\n",
            "Boosting Estimator: 590 of 1000...\n",
            "Boosting Estimator: 600 of 1000...\n",
            "Boosting Estimator: 610 of 1000...\n",
            "Boosting Estimator: 620 of 1000...\n",
            "Boosting Estimator: 630 of 1000...\n",
            "Boosting Estimator: 640 of 1000...\n",
            "Boosting Estimator: 650 of 1000...\n",
            "Boosting Estimator: 660 of 1000...\n",
            "Boosting Estimator: 670 of 1000...\n",
            "Boosting Estimator: 680 of 1000...\n",
            "Boosting Estimator: 690 of 1000...\n",
            "Boosting Estimator: 700 of 1000...\n",
            "Boosting Estimator: 710 of 1000...\n",
            "Boosting Estimator: 720 of 1000...\n",
            "Boosting Estimator: 730 of 1000...\n",
            "Boosting Estimator: 740 of 1000...\n",
            "Boosting Estimator: 750 of 1000...\n",
            "Boosting Estimator: 760 of 1000...\n",
            "Boosting Estimator: 770 of 1000...\n",
            "Boosting Estimator: 780 of 1000...\n",
            "Boosting Estimator: 790 of 1000...\n",
            "Boosting Estimator: 800 of 1000...\n",
            "Boosting Estimator: 810 of 1000...\n",
            "Boosting Estimator: 820 of 1000...\n",
            "Boosting Estimator: 830 of 1000...\n",
            "Boosting Estimator: 840 of 1000...\n",
            "Boosting Estimator: 850 of 1000...\n",
            "Boosting Estimator: 860 of 1000...\n",
            "Boosting Estimator: 870 of 1000...\n",
            "Boosting Estimator: 880 of 1000...\n",
            "Boosting Estimator: 890 of 1000...\n",
            "Boosting Estimator: 900 of 1000...\n",
            "Boosting Estimator: 910 of 1000...\n",
            "Boosting Estimator: 920 of 1000...\n",
            "Boosting Estimator: 930 of 1000...\n",
            "Boosting Estimator: 940 of 1000...\n",
            "Boosting Estimator: 950 of 1000...\n",
            "Boosting Estimator: 960 of 1000...\n",
            "Boosting Estimator: 970 of 1000...\n",
            "Boosting Estimator: 980 of 1000...\n",
            "Boosting Estimator: 990 of 1000...\n",
            "Boosting Estimator: 1000 of 1000...\n"
          ]
        }
      ],
      "source": [
        "# Estimate the AdaBoost MSE over the full number\n",
        "# of estimators, across a step size (\"step_factor\")\n",
        "for i in range(0, axis_step):\n",
        "    print(\"Boosting Estimator: %d of %d...\" % (\n",
        "        step_factor*(i+1), n_estimators)\n",
        "    )\n",
        "    boosting = AdaBoostRegressor(\n",
        "        DecisionTreeRegressor(),\n",
        "        n_estimators=step_factor*(i+1),\n",
        "        random_state=random_state,\n",
        "        learning_rate=0.01\n",
        "    )\n",
        "    boosting.fit(X_train, y_train)\n",
        "    mse = mean_squared_error(y_test, boosting.predict(X_test))\n",
        "    estimators[i] = step_factor*(i+1)\n",
        "    boosting_mse[i] = mse"
      ]
    },
    {
      "cell_type": "code",
      "execution_count": null,
      "metadata": {
        "id": "wdRUY8lz67rw",
        "outputId": "c05fcdcb-b6ef-4971-bd04-640ded9c1dc7"
      },
      "outputs": [
        {
          "data": {
            "image/png": "[encoded data removed]",
            "text/plain": [
              "<Figure size 576x576 with 1 Axes>"
            ]
          },
          "metadata": {
            "needs_background": "light"
          },
          "output_type": "display_data"
        }
      ],
      "source": [
        "plt.figure(figsize=(8, 8))\n",
        "plt.title('Bagging, Random Forest and Boosting comparison')\n",
        "plt.plot(estimators, bagging_mse, 'b-', color=\"black\", label='Bagging')\n",
        "plt.plot(estimators, rf_mse, 'b-', color=\"blue\", label='Random Forest')\n",
        "plt.plot(estimators, boosting_mse, 'b-', color=\"red\", label='AdaBoost')\n",
        "plt.legend(loc='upper right')\n",
        "plt.xlabel('Estimators')\n",
        "plt.ylabel('Mean Squared Error')\n",
        "plt.show()"
      ]
    },
    {
      "cell_type": "raw",
      "metadata": {
        "id": "zNKJCoE367rw"
      },
      "source": [
        "From this chart, it is clear to see that with increasing the number of estimators, bagging method (black line) and random forest method (blue line) eventually lead to the 'Mean Squared Error' settling down while the boosting method (red line) begins to significantly overfit. "
      ]
    },
    {
      "cell_type": "raw",
      "metadata": {
        "id": "wbd1R89c67rx"
      },
      "source": [
        "Reference: \n",
        "          “Bootstrap Aggregation, Random Forests and Boosted Trees.” QuantStart, www.quantstart.com/articles/bootstrap-aggregation-random-forests-and-boosted-trees/."
      ]
    }
  ],
  "metadata": {
    "kernelspec": {
      "display_name": "Python 3",
      "language": "python",
      "name": "python3"
    },
    "language_info": {
      "codemirror_mode": {
        "name": "ipython",
        "version": 3
      },
      "file_extension": ".py",
      "mimetype": "text/x-python",
      "name": "python",
      "nbconvert_exporter": "python",
      "pygments_lexer": "ipython3",
      "version": "3.8.8"
    },
    "colab": {
      "name": "project_old.ipynb",
      "provenance": [],
      "include_colab_link": true
    }
  },
  "nbformat": 4,
  "nbformat_minor": 0
}